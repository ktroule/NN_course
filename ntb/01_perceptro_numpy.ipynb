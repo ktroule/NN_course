{
 "cells": [
  {
   "attachments": {},
   "cell_type": "markdown",
   "metadata": {},
   "source": [
    "# Perceptron with numpy"
   ]
  },
  {
   "cell_type": "code",
   "execution_count": null,
   "metadata": {},
   "outputs": [
    {
     "ename": "",
     "evalue": "",
     "output_type": "error",
     "traceback": [
      "\u001b[1;31mFailed to start the Kernel. \n",
      "\u001b[1;31mUnhandled error. \n",
      "\u001b[1;31mView Jupyter <a href='command:jupyter.viewOutput'>log</a> for further details."
     ]
    }
   ],
   "source": [
    "import matplotlib.pyplot as plt\n",
    "import seaborn as sns\n",
    "import pandas as pd\n",
    "import numpy as np\n",
    "import os\n",
    "\n",
    "%matplotlib inline"
   ]
  },
  {
   "attachments": {},
   "cell_type": "markdown",
   "metadata": {},
   "source": [
    "### Create toy dataset"
   ]
  },
  {
   "cell_type": "code",
   "execution_count": null,
   "metadata": {},
   "outputs": [
    {
     "ename": "",
     "evalue": "",
     "output_type": "error",
     "traceback": [
      "\u001b[1;31mFailed to start the Kernel. \n",
      "\u001b[1;31mUnhandled error. \n",
      "\u001b[1;31mView Jupyter <a href='command:jupyter.viewOutput'>log</a> for further details."
     ]
    }
   ],
   "source": [
    "data = pd.read_csv('../../data/perceptron_toydata.txt',\n",
    "    sep = '\\t',\n",
    "    header = None)\n",
    "\n",
    "X, y = data.iloc[:, :2], data.iloc[:, 2]\n",
    "y = y.astype(np.int)\n",
    "\n",
    "# -- Shuffle randomly rows\n",
    "shuffle_idx = np.arange(y.shape[0])\n",
    "shuffle_rng = np.random.RandomState(42)\n",
    "shuffle_rng.shuffle(shuffle_idx)\n",
    "X, y = X.iloc[shuffle_idx], y.iloc[shuffle_idx]\n",
    "\n",
    "# -- Split train (70)/ test (30)\n",
    "X_train, X_test = X.iloc[shuffle_idx[:70]], X.iloc[shuffle_idx[70:]]\n",
    "y_train, y_test = y.iloc[shuffle_idx[:70]], y.iloc[shuffle_idx[70:]]"
   ]
  },
  {
   "cell_type": "markdown",
   "metadata": {},
   "source": [
    "### Normalize train"
   ]
  },
  {
   "cell_type": "code",
   "execution_count": null,
   "metadata": {},
   "outputs": [
    {
     "ename": "",
     "evalue": "",
     "output_type": "error",
     "traceback": [
      "\u001b[1;31mFailed to start the Kernel. \n",
      "\u001b[1;31mUnhandled error. \n",
      "\u001b[1;31mView Jupyter <a href='command:jupyter.viewOutput'>log</a> for further details."
     ]
    }
   ],
   "source": [
    "# -- Normalize train (mean zero, unit variance)\n",
    "mu, sigma = X_train.mean(axis = 0), X_train.std(axis = 0)\n",
    "X_train = (X_train - mu) / sigma\n",
    "X_test = (X_test - mu) / sigma"
   ]
  },
  {
   "attachments": {},
   "cell_type": "markdown",
   "metadata": {},
   "source": [
    "Check data has been normalized correctly, mean should be 0 for each feature."
   ]
  },
  {
   "cell_type": "code",
   "execution_count": null,
   "metadata": {},
   "outputs": [
    {
     "ename": "",
     "evalue": "",
     "output_type": "error",
     "traceback": [
      "\u001b[1;31mFailed to start the Kernel. \n",
      "\u001b[1;31mUnhandled error. \n",
      "\u001b[1;31mView Jupyter <a href='command:jupyter.viewOutput'>log</a> for further details."
     ]
    }
   ],
   "source": [
    "X_train.mean(axis = 0)"
   ]
  },
  {
   "attachments": {},
   "cell_type": "markdown",
   "metadata": {},
   "source": [
    "### Plot train data"
   ]
  },
  {
   "cell_type": "code",
   "execution_count": null,
   "metadata": {},
   "outputs": [
    {
     "ename": "",
     "evalue": "",
     "output_type": "error",
     "traceback": [
      "\u001b[1;31mFailed to start the Kernel. \n",
      "\u001b[1;31mUnhandled error. \n",
      "\u001b[1;31mView Jupyter <a href='command:jupyter.viewOutput'>log</a> for further details."
     ]
    }
   ],
   "source": [
    "x1 = -0.1\n",
    "x2 = 0.5\n",
    "b = 0\n",
    "2.3823 * x1 + 0.8073 * x2 + b"
   ]
  },
  {
   "cell_type": "code",
   "execution_count": null,
   "metadata": {},
   "outputs": [
    {
     "ename": "",
     "evalue": "",
     "output_type": "error",
     "traceback": [
      "\u001b[1;31mFailed to start the Kernel. \n",
      "\u001b[1;31mUnhandled error. \n",
      "\u001b[1;31mView Jupyter <a href='command:jupyter.viewOutput'>log</a> for further details."
     ]
    }
   ],
   "source": [
    "fig, ax = plt.subplots(1, 2, figsize = (9, 4))\n",
    "\n",
    "sns.scatterplot(data = X_train,\n",
    "                x = 0,\n",
    "                y = 1, \n",
    "                hue = y_train,\n",
    "                ax = ax[0]).set(title ='Train dataset')\n",
    "\n",
    "sns.scatterplot(data = X_test,\n",
    "                x = 0, \n",
    "                y = 1, \n",
    "                hue = y_test,\n",
    "                ax = ax[1]).set(title='Test dataset')\n",
    "fig.show()"
   ]
  },
  {
   "cell_type": "markdown",
   "metadata": {},
   "source": []
  },
  {
   "attachments": {},
   "cell_type": "markdown",
   "metadata": {},
   "source": [
    "### Define perceptron class"
   ]
  },
  {
   "cell_type": "code",
   "execution_count": null,
   "metadata": {},
   "outputs": [
    {
     "ename": "",
     "evalue": "",
     "output_type": "error",
     "traceback": [
      "\u001b[1;31mFailed to start the Kernel. \n",
      "\u001b[1;31mUnhandled error. \n",
      "\u001b[1;31mView Jupyter <a href='command:jupyter.viewOutput'>log</a> for further details."
     ]
    }
   ],
   "source": [
    "class Perceptron():\n",
    "    \n",
    "    def __init__(self, num_features):\n",
    "        self.num_features = num_features\n",
    "        self.weights = np.zeros((num_features, 1), dtype=float)\n",
    "        self.bias = np.zeros(1, dtype=float)\n",
    "        self.weights_history =  np.zeros((1, num_features + 1), dtype=float)\n",
    "\n",
    "    def forward(self, x):\n",
    "        # Produce the prediction\n",
    "        linear = np.dot(x, self.weights) + self.bias # comp. net input\n",
    "        predictions = np.where(linear > 0., 1, 0)\n",
    "        return predictions\n",
    "        \n",
    "    def backward(self, x, y):  \n",
    "        # Compute the errors to adjust weights\n",
    "        predictions = self.forward(x)\n",
    "        errors = y - predictions\n",
    "        return errors\n",
    "        \n",
    "    def train(self, x, y, epochs):\n",
    "        for e in range(epochs):\n",
    "            \n",
    "            for i in range(y.shape[0]):\n",
    "                errors = self.backward(x[i].reshape(1, self.num_features), y[i]).reshape(-1)\n",
    "                self.weights += (errors * x[i]).reshape(self.num_features, 1)\n",
    "                self.bias += errors\n",
    "                # -- Keep track of weights change\n",
    "                self.weights_history = np.vstack([self.weights_history, np.append(ppn.weights.reshape(-1), ppn.bias)])\n",
    "                \n",
    "    def evaluate(self, x, y):\n",
    "        predictions = self.forward(x).reshape(-1)\n",
    "        accuracy = np.sum(predictions == y) / y.shape[0]\n",
    "        return accuracy"
   ]
  },
  {
   "cell_type": "markdown",
   "metadata": {},
   "source": [
    "### Train perceptron"
   ]
  },
  {
   "cell_type": "code",
   "execution_count": null,
   "metadata": {},
   "outputs": [
    {
     "ename": "",
     "evalue": "",
     "output_type": "error",
     "traceback": [
      "\u001b[1;31mFailed to start the Kernel. \n",
      "\u001b[1;31mUnhandled error. \n",
      "\u001b[1;31mView Jupyter <a href='command:jupyter.viewOutput'>log</a> for further details."
     ]
    }
   ],
   "source": [
    "ppn = Perceptron(num_features = 2)\n",
    "\n",
    "ppn.train(x = X_train.to_numpy(),\n",
    "          y = y_train.to_numpy(),\n",
    "          epochs = 100)\n",
    "\n",
    "ppn.weights"
   ]
  },
  {
   "cell_type": "code",
   "execution_count": null,
   "metadata": {},
   "outputs": [
    {
     "ename": "",
     "evalue": "",
     "output_type": "error",
     "traceback": [
      "\u001b[1;31mFailed to start the Kernel. \n",
      "\u001b[1;31mUnhandled error. \n",
      "\u001b[1;31mView Jupyter <a href='command:jupyter.viewOutput'>log</a> for further details."
     ]
    }
   ],
   "source": [
    "w1 = ppn.weights[0]\n",
    "w2 = ppn.weights[1]\n",
    "b = ppn.bias[0]\n",
    "\n",
    "x1 = -1\n",
    "y1 = ((-(w1 * x1) - b) / w2)[0]\n",
    "\n",
    "\n",
    "x2 = 1\n",
    "y2 = ((-(w1 * x2) - b) / w2)[0]"
   ]
  },
  {
   "cell_type": "markdown",
   "metadata": {},
   "source": [
    "### Plot decision boundary"
   ]
  },
  {
   "cell_type": "code",
   "execution_count": null,
   "metadata": {},
   "outputs": [
    {
     "ename": "",
     "evalue": "",
     "output_type": "error",
     "traceback": [
      "\u001b[1;31mFailed to start the Kernel. \n",
      "\u001b[1;31mUnhandled error. \n",
      "\u001b[1;31mView Jupyter <a href='command:jupyter.viewOutput'>log</a> for further details."
     ]
    }
   ],
   "source": [
    "fig, ax = plt.subplots(figsize=(6, 6))\n",
    "\n",
    "p1 = sns.scatterplot(data = X_train,\n",
    "                     x = 0,\n",
    "                     y = 1, \n",
    "                     hue = y_train,\n",
    "                     ax = ax)\n",
    "\n",
    "plt.plot([x1, x2], [y1, y2],linewidth = 2)"
   ]
  }
 ],
 "metadata": {
  "kernelspec": {
   "display_name": "Python 3",
   "language": "python",
   "name": "python3"
  },
  "language_info": {
   "name": "python",
   "version": "3.8.2"
  },
  "orig_nbformat": 4,
  "vscode": {
   "interpreter": {
    "hash": "31f2aee4e71d21fbe5cf8b01ff0e069b9275f58929596ceb00d14d90e3e16cd6"
   }
  }
 },
 "nbformat": 4,
 "nbformat_minor": 2
}

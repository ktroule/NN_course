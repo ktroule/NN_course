{
 "cells": [
  {
   "attachments": {},
   "cell_type": "markdown",
   "metadata": {},
   "source": [
    "# Softmax regression on MNIST\n",
    "Each pixel is employed as individual feature."
   ]
  },
  {
   "cell_type": "code",
   "execution_count": 18,
   "metadata": {},
   "outputs": [],
   "source": [
    "from torch.utils.data import DataLoader\n",
    "from torchvision import transforms\n",
    "from torchvision import datasets\n",
    "import matplotlib.pyplot as plt\n",
    "import torch.nn.functional as F\n",
    "import seaborn as sns\n",
    "import numpy as np\n",
    "import random\n",
    "import torch\n",
    "import time\n",
    "import os"
   ]
  },
  {
   "cell_type": "markdown",
   "metadata": {},
   "source": [
    "### Settings"
   ]
  },
  {
   "cell_type": "code",
   "execution_count": 19,
   "metadata": {},
   "outputs": [
    {
     "data": {
      "text/plain": [
       "device(type='cpu')"
      ]
     },
     "execution_count": 19,
     "metadata": {},
     "output_type": "execute_result"
    }
   ],
   "source": [
    "base_dir = '/nfs/team292/kt22/misc/nn_course/'\n",
    "\n",
    "device = torch.device(\"cuda:0\" if torch.cuda.is_available() else \"cpu\")\n",
    "device"
   ]
  },
  {
   "cell_type": "markdown",
   "metadata": {},
   "source": [
    "### Load datasets"
   ]
  },
  {
   "cell_type": "code",
   "execution_count": 20,
   "metadata": {},
   "outputs": [
    {
     "name": "stdout",
     "output_type": "stream",
     "text": [
      "Image batch dimensions: torch.Size([200, 1, 28, 28])\n",
      "Image label dimensions: torch.Size([200])\n"
     ]
    }
   ],
   "source": [
    "batch_size = 300\n",
    "\n",
    "# -- Download MNIST dataset\n",
    "train_dataset = datasets.MNIST(root = os.path.join(base_dir, 'data/MNIST'),\n",
    "                               train = True,\n",
    "                               transform = transforms.ToTensor(),\n",
    "                               download = True)\n",
    "\n",
    "test_dataset = datasets.MNIST(root = os.path.join(base_dir, 'data/MNIST'),\n",
    "                              train = False, \n",
    "                              transform = transforms.ToTensor(),\n",
    "                              download = True)\n",
    "\n",
    "# -- Load MNIST dataset\n",
    "train_loader = DataLoader(dataset = train_dataset, \n",
    "                          batch_size = batch_size, \n",
    "                          shuffle = True)\n",
    "\n",
    "test_loader = DataLoader(dataset = test_dataset, \n",
    "                         batch_size = batch_size, \n",
    "                         shuffle = False)\n",
    "\n",
    "# -- Checking dataset dimensions\n",
    "for images, labels in train_loader:  \n",
    "    print('Image batch dimensions:', images.shape) #NCHW\n",
    "    print('Image label dimensions:', labels.shape)\n",
    "    break"
   ]
  },
  {
   "cell_type": "code",
   "execution_count": 21,
   "metadata": {},
   "outputs": [
    {
     "data": {
      "image/png": "[encoded data removed]",
      "text/plain": [
       "<Figure size 640x480 with 21 Axes>"
      ]
     },
     "metadata": {},
     "output_type": "display_data"
    }
   ],
   "source": [
    "rnd_idx = [ random.randint(0, len(train_loader.dataset)) for p in range(0, 21) ]\n",
    "\n",
    "fig, axs = plt.subplots(ncols = 7, nrows = 3)\n",
    "\n",
    "for rnd, ax in zip(rnd_idx, axs.T.ravel()):\n",
    "    \n",
    "    sns.heatmap(train_loader.dataset[rnd][0].numpy()[0],\n",
    "                cmap = 'Greys',\n",
    "                cbar = False,\n",
    "                ax = ax,\n",
    "                square = True,\n",
    "                xticklabels = False,\n",
    "                yticklabels = False) \\\n",
    "                .set(title=  'Label: ' + str(train_loader.dataset[rnd][1]),\n",
    "                        xticklabels = '',\n",
    "                        yticklabels = '')"
   ]
  },
  {
   "cell_type": "markdown",
   "metadata": {},
   "source": [
    "### Define SofMax model"
   ]
  },
  {
   "cell_type": "code",
   "execution_count": 22,
   "metadata": {},
   "outputs": [],
   "source": [
    "class SofmaxRegression(torch.nn.Module):\n",
    "    \n",
    "    def __init__(self, num_features, num_classes):\n",
    "        super(SofmaxRegression, self).__init__()\n",
    "        self.linear = torch.nn.Linear(in_features = num_features,\n",
    "                                      out_features = num_classes)\n",
    "        # Set weight and bias to zero\n",
    "        self.linear.weight.detach().zero_()\n",
    "        self.linear.bias.detach().zero_()\n",
    "        \n",
    "    def forward(self, x):\n",
    "        logits = self.linear(x)\n",
    "        probas = F.softmax(logits, dim = 1)\n",
    "        return logits, probas\n"
   ]
  },
  {
   "cell_type": "markdown",
   "metadata": {},
   "source": [
    "Instantiate the model and the optimizer"
   ]
  },
  {
   "cell_type": "code",
   "execution_count": 23,
   "metadata": {},
   "outputs": [],
   "source": [
    "# -- Num features correspond to the dimensions of the images\n",
    "model = SofmaxRegression(num_features = 28 * 28,\n",
    "                         num_classes = 10)\n",
    "model.to(device)\n",
    "\n",
    "# -- constructs an optimizer object, that will hold the current\n",
    "# -- state and will update the parameters based on the computed gradients.\n",
    "optimizer = torch.optim.SGD(params = model.parameters(),\n",
    "                            lr = 0.1)"
   ]
  },
  {
   "cell_type": "code",
   "execution_count": 24,
   "metadata": {},
   "outputs": [],
   "source": [
    "torch.manual_seed(42)\n",
    "\n",
    "def compute_accuracy(model, data_loader):\n",
    "    correct_pred, num_examples = 0, 0\n",
    "    \n",
    "    for features, targets in data_loader:\n",
    "        features = features.view(-1, 28 * 28).to(device)\n",
    "        targets = targets.to(device)\n",
    "        # -- Execute model\n",
    "        logits, probas = model(features)\n",
    "        max_prob , predicted_labels = torch.max(probas, 1)\n",
    "        num_examples += targets.size(0)\n",
    "        correct_pred += (predicted_labels == targets).sum()\n",
    "        \n",
    "    return correct_pred.float() / num_examples * 100"
   ]
  },
  {
   "cell_type": "markdown",
   "metadata": {},
   "source": [
    "### Run network"
   ]
  },
  {
   "cell_type": "code",
   "execution_count": 25,
   "metadata": {},
   "outputs": [],
   "source": [
    "num_epochs = 15"
   ]
  },
  {
   "cell_type": "code",
   "execution_count": 26,
   "metadata": {},
   "outputs": [
    {
     "name": "stdout",
     "output_type": "stream",
     "text": [
      "Epoch: 001/010 | Batch 000/300 | Cost: 2.3026\n",
      "Epoch: 001/010 | Batch 050/300 | Cost: 0.8685\n",
      "Epoch: 001/010 | Batch 100/300 | Cost: 0.6251\n",
      "Epoch: 001/010 | Batch 150/300 | Cost: 0.4753\n",
      "Epoch: 001/010 | Batch 200/300 | Cost: 0.4923\n",
      "Epoch: 001/010 | Batch 250/300 | Cost: 0.4827\n",
      "Epoch: 001/010 training accuracy: 88.53%\n",
      "Time elapsed: 0.30 min\n",
      "Epoch: 002/010 | Batch 000/300 | Cost: 0.4338\n",
      "Epoch: 002/010 | Batch 050/300 | Cost: 0.4022\n",
      "Epoch: 002/010 | Batch 100/300 | Cost: 0.4355\n",
      "Epoch: 002/010 | Batch 150/300 | Cost: 0.3674\n",
      "Epoch: 002/010 | Batch 200/300 | Cost: 0.4301\n",
      "Epoch: 002/010 | Batch 250/300 | Cost: 0.3802\n",
      "Epoch: 002/010 training accuracy: 89.61%\n",
      "Time elapsed: 0.62 min\n",
      "Epoch: 003/010 | Batch 000/300 | Cost: 0.3345\n",
      "Epoch: 003/010 | Batch 050/300 | Cost: 0.3789\n",
      "Epoch: 003/010 | Batch 100/300 | Cost: 0.3899\n",
      "Epoch: 003/010 | Batch 150/300 | Cost: 0.3505\n",
      "Epoch: 003/010 | Batch 200/300 | Cost: 0.3170\n",
      "Epoch: 003/010 | Batch 250/300 | Cost: 0.3687\n",
      "Epoch: 003/010 training accuracy: 90.30%\n",
      "Time elapsed: 0.92 min\n",
      "Epoch: 004/010 | Batch 000/300 | Cost: 0.3576\n",
      "Epoch: 004/010 | Batch 050/300 | Cost: 0.3868\n",
      "Epoch: 004/010 | Batch 100/300 | Cost: 0.4615\n",
      "Epoch: 004/010 | Batch 150/300 | Cost: 0.3599\n",
      "Epoch: 004/010 | Batch 200/300 | Cost: 0.3257\n",
      "Epoch: 004/010 | Batch 250/300 | Cost: 0.3232\n",
      "Epoch: 004/010 training accuracy: 90.63%\n",
      "Time elapsed: 1.23 min\n",
      "Epoch: 005/010 | Batch 000/300 | Cost: 0.3842\n",
      "Epoch: 005/010 | Batch 050/300 | Cost: 0.3480\n",
      "Epoch: 005/010 | Batch 100/300 | Cost: 0.3888\n",
      "Epoch: 005/010 | Batch 150/300 | Cost: 0.4312\n",
      "Epoch: 005/010 | Batch 200/300 | Cost: 0.4624\n",
      "Epoch: 005/010 | Batch 250/300 | Cost: 0.3999\n",
      "Epoch: 005/010 training accuracy: 90.91%\n",
      "Time elapsed: 1.55 min\n",
      "Epoch: 006/010 | Batch 000/300 | Cost: 0.3287\n",
      "Epoch: 006/010 | Batch 050/300 | Cost: 0.3677\n",
      "Epoch: 006/010 | Batch 100/300 | Cost: 0.3072\n",
      "Epoch: 006/010 | Batch 150/300 | Cost: 0.3864\n",
      "Epoch: 006/010 | Batch 200/300 | Cost: 0.2962\n",
      "Epoch: 006/010 | Batch 250/300 | Cost: 0.3486\n",
      "Epoch: 006/010 training accuracy: 91.14%\n",
      "Time elapsed: 1.86 min\n",
      "Epoch: 007/010 | Batch 000/300 | Cost: 0.3995\n",
      "Epoch: 007/010 | Batch 050/300 | Cost: 0.3247\n",
      "Epoch: 007/010 | Batch 100/300 | Cost: 0.4383\n",
      "Epoch: 007/010 | Batch 150/300 | Cost: 0.2853\n",
      "Epoch: 007/010 | Batch 200/300 | Cost: 0.3449\n",
      "Epoch: 007/010 | Batch 250/300 | Cost: 0.3245\n",
      "Epoch: 007/010 training accuracy: 91.34%\n",
      "Time elapsed: 2.15 min\n",
      "Epoch: 008/010 | Batch 000/300 | Cost: 0.3090\n",
      "Epoch: 008/010 | Batch 050/300 | Cost: 0.3355\n",
      "Epoch: 008/010 | Batch 100/300 | Cost: 0.3399\n",
      "Epoch: 008/010 | Batch 150/300 | Cost: 0.3932\n",
      "Epoch: 008/010 | Batch 200/300 | Cost: 0.3336\n",
      "Epoch: 008/010 | Batch 250/300 | Cost: 0.2669\n",
      "Epoch: 008/010 training accuracy: 91.46%\n",
      "Time elapsed: 2.44 min\n",
      "Epoch: 009/010 | Batch 000/300 | Cost: 0.2811\n",
      "Epoch: 009/010 | Batch 050/300 | Cost: 0.2901\n",
      "Epoch: 009/010 | Batch 100/300 | Cost: 0.3209\n",
      "Epoch: 009/010 | Batch 150/300 | Cost: 0.3611\n",
      "Epoch: 009/010 | Batch 200/300 | Cost: 0.3291\n",
      "Epoch: 009/010 | Batch 250/300 | Cost: 0.2501\n",
      "Epoch: 009/010 training accuracy: 91.50%\n",
      "Time elapsed: 2.74 min\n",
      "Epoch: 010/010 | Batch 000/300 | Cost: 0.3034\n",
      "Epoch: 010/010 | Batch 050/300 | Cost: 0.2567\n",
      "Epoch: 010/010 | Batch 100/300 | Cost: 0.3532\n",
      "Epoch: 010/010 | Batch 150/300 | Cost: 0.3475\n",
      "Epoch: 010/010 | Batch 200/300 | Cost: 0.3232\n",
      "Epoch: 010/010 | Batch 250/300 | Cost: 0.2869\n",
      "Epoch: 010/010 training accuracy: 91.70%\n",
      "Time elapsed: 3.02 min\n"
     ]
    }
   ],
   "source": [
    "start_time = time.time()\n",
    "epoch_costs = []\n",
    "\n",
    "for epoch in range(num_epochs):\n",
    "    avg_cost = 0.\n",
    "    \n",
    "    for batch_idx, (features, targets) in enumerate(train_loader):\n",
    "\n",
    "        # -- Converts feature matrix to vector\n",
    "        features = features.view(-1, 28 * 28).to(device)\n",
    "        targets = targets.to(device)\n",
    "            \n",
    "        # -- FORWARD AND BACK PROP\n",
    "        # -- initially will be 0 as weights and bias are 0\n",
    "        logits, probas = model(features)\n",
    "        \n",
    "        # note that the PyTorch implementation of\n",
    "        # CrossEntropyLoss works with logits,\n",
    "        # not probabilities\n",
    "        cost = F.cross_entropy(logits, targets)\n",
    "        # -- For every batch in training we set the grandients to\n",
    "        # -- zero before backpropagation. This avoids the gradient\n",
    "        # -- to be a combination of the previous.\n",
    "        optimizer.zero_grad()\n",
    "        cost.backward()\n",
    "        avg_cost += cost\n",
    "        \n",
    "        ### UPDATE MODEL PARAMETERS\n",
    "        optimizer.step()\n",
    "        \n",
    "        ### LOGGING\n",
    "        # If divisible by 50\n",
    "        if not batch_idx % 50:\n",
    "            print ('Epoch: %03d/%03d | Batch %03d/%03d | Cost: %.4f' \n",
    "                   %(epoch+1, num_epochs, batch_idx, \n",
    "                     len(train_dataset)//batch_size, cost))\n",
    "            \n",
    "    with torch.set_grad_enabled(False):\n",
    "\n",
    "        avg_cost = avg_cost/len(train_dataset)\n",
    "        epoch_costs.append(avg_cost)\n",
    "        print('Epoch: %03d/%03d training accuracy: %.2f%%' % (\n",
    "              epoch+1, num_epochs, \n",
    "              compute_accuracy(model, train_loader)))\n",
    "        print('Time elapsed: %.2f min' % ((time.time() - start_time)/60))"
   ]
  }
 ],
 "metadata": {
  "kernelspec": {
   "display_name": "NN_course",
   "language": "python",
   "name": "nn_course"
  },
  "language_info": {
   "codemirror_mode": {
    "name": "ipython",
    "version": 3
   },
   "file_extension": ".py",
   "mimetype": "text/x-python",
   "name": "python",
   "nbconvert_exporter": "python",
   "pygments_lexer": "ipython3",
   "version": "3.9.16"
  },
  "orig_nbformat": 4
 },
 "nbformat": 4,
 "nbformat_minor": 2
}

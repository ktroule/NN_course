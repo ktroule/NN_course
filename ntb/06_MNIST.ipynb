{
 "cells": [
  {
   "attachments": {},
   "cell_type": "markdown",
   "metadata": {},
   "source": [
    "# Softmax regression on MNIST\n",
    "Each pixel is employed as individual feature."
   ]
  },
  {
   "cell_type": "code",
   "execution_count": 25,
   "metadata": {},
   "outputs": [],
   "source": [
    "from torch.utils.data import DataLoader\n",
    "from torchvision import transforms\n",
    "from torchvision import datasets\n",
    "import matplotlib.pyplot as plt\n",
    "import torch.nn.functional as F\n",
    "import seaborn as sns\n",
    "import numpy as np\n",
    "import random\n",
    "import torch\n",
    "import time\n",
    "import os"
   ]
  },
  {
   "cell_type": "markdown",
   "metadata": {},
   "source": [
    "### Settings"
   ]
  },
  {
   "cell_type": "code",
   "execution_count": 26,
   "metadata": {},
   "outputs": [
    {
     "data": {
      "text/plain": [
       "device(type='cpu')"
      ]
     },
     "execution_count": 26,
     "metadata": {},
     "output_type": "execute_result"
    }
   ],
   "source": [
    "base_dir = '/nfs/team292/kt22/misc/nn_course/'\n",
    "\n",
    "device = torch.device(\"cuda:0\" if torch.cuda.is_available() else \"cpu\")\n",
    "device"
   ]
  },
  {
   "cell_type": "markdown",
   "metadata": {},
   "source": [
    "### Load datasets"
   ]
  },
  {
   "cell_type": "code",
   "execution_count": 27,
   "metadata": {},
   "outputs": [
    {
     "name": "stdout",
     "output_type": "stream",
     "text": [
      "Image batch dimensions: torch.Size([500, 1, 28, 28])\n",
      "Image label dimensions: torch.Size([500])\n"
     ]
    }
   ],
   "source": [
    "batch_size = 500\n",
    "\n",
    "# -- Download MNIST dataset\n",
    "train_dataset = datasets.MNIST(root = os.path.join(base_dir, 'data/MNIST'),\n",
    "                               train = True,\n",
    "                               transform = transforms.ToTensor(),\n",
    "                               download = True)\n",
    "\n",
    "test_dataset = datasets.MNIST(root = os.path.join(base_dir, 'data/MNIST'),\n",
    "                              train = False, \n",
    "                              transform = transforms.ToTensor(),\n",
    "                              download = True)\n",
    "\n",
    "# -- Load MNIST dataset\n",
    "train_loader = DataLoader(dataset = train_dataset, \n",
    "                          batch_size = batch_size, \n",
    "                          shuffle = True)\n",
    "\n",
    "test_loader = DataLoader(dataset = test_dataset, \n",
    "                         batch_size = batch_size, \n",
    "                         shuffle = False)\n",
    "\n",
    "# -- Checking dataset dimensions\n",
    "for images, labels in train_loader:  \n",
    "    print('Image batch dimensions:', images.shape) #NCHW\n",
    "    print('Image label dimensions:', labels.shape)\n",
    "    break"
   ]
  },
  {
   "cell_type": "code",
   "execution_count": 28,
   "metadata": {},
   "outputs": [
    {
     "data": {
      "image/png": "[encoded data removed]",
      "text/plain": [
       "<Figure size 640x480 with 21 Axes>"
      ]
     },
     "metadata": {},
     "output_type": "display_data"
    }
   ],
   "source": [
    "rnd_idx = [ random.randint(0, len(train_loader.dataset)) for p in range(0, 21) ]\n",
    "\n",
    "fig, axs = plt.subplots(ncols = 7, nrows = 3)\n",
    "\n",
    "for rnd, ax in zip(rnd_idx, axs.T.ravel()):\n",
    "    \n",
    "    sns.heatmap(train_loader.dataset[rnd][0].numpy()[0],\n",
    "                cmap = 'Greys',\n",
    "                cbar = False,\n",
    "                ax = ax,\n",
    "                square = True,\n",
    "                xticklabels = False,\n",
    "                yticklabels = False) \\\n",
    "                .set(title=  'Label: ' + str(train_loader.dataset[rnd][1]),\n",
    "                        xticklabels = '',\n",
    "                        yticklabels = '')"
   ]
  },
  {
   "cell_type": "markdown",
   "metadata": {},
   "source": [
    "### Define SofMax model"
   ]
  },
  {
   "cell_type": "code",
   "execution_count": 29,
   "metadata": {},
   "outputs": [],
   "source": [
    "class SofmaxRegression(torch.nn.Module):\n",
    "    \n",
    "    def __init__(self, num_features, num_classes):\n",
    "        super(SofmaxRegression, self).__init__()\n",
    "        self.linear = torch.nn.Linear(in_features = num_features,\n",
    "                                      out_features = num_classes)\n",
    "        # Set weight and bias to zero\n",
    "        self.linear.weight.detach().zero_()\n",
    "        self.linear.bias.detach().zero_()\n",
    "        \n",
    "    def forward(self, x):\n",
    "        logits = self.linear(x)\n",
    "        probas = F.softmax(logits, dim = 1)\n",
    "        return logits, probas\n"
   ]
  },
  {
   "cell_type": "markdown",
   "metadata": {},
   "source": [
    "Instantiate the model and the optimizer"
   ]
  },
  {
   "cell_type": "code",
   "execution_count": 30,
   "metadata": {},
   "outputs": [],
   "source": [
    "# -- Num features correspond to the dimensions of the images\n",
    "model = SofmaxRegression(num_features = 28 * 28,\n",
    "                         num_classes = 10)\n",
    "model.to(device)\n",
    "\n",
    "optimizer = torch.optim.SGD(params = model.parameters(),\n",
    "                            lr = 0.1)"
   ]
  },
  {
   "cell_type": "code",
   "execution_count": 33,
   "metadata": {},
   "outputs": [],
   "source": [
    "torch.manual_seed(42)\n",
    "\n",
    "def compute_accuracy(model, data_loader):\n",
    "    correct_pred, num_examples = 0, 0\n",
    "    \n",
    "    for features, targets in data_loader:\n",
    "        features = features.view(-1, 28, 28).to(device)\n",
    "        targets = targets.to(device)\n",
    "        # -- Execute model\n",
    "        logits, probas = model(features)\n",
    "        predicted_labels = torch.max(probas, 1)\n",
    "        num_examples += targets.size(0)\n",
    "        correct_pred += (predicted_labels == targets).sum()\n",
    "        \n",
    "    return correct_pred.float() / num_examples * 100"
   ]
  },
  {
   "cell_type": "markdown",
   "metadata": {},
   "source": [
    "### Run network"
   ]
  },
  {
   "cell_type": "code",
   "execution_count": 32,
   "metadata": {},
   "outputs": [],
   "source": [
    "for epoch in range(num_epochs):\n",
    "    avg_cost = 0.\n",
    "    \n",
    "    for batch_idx, (features, targets) in enumerate(train_loader):\n",
    "        \n",
    "        # -- Converts feature matrix to vector\n",
    "        features = features.view(-1, 28 * 28).to(device)\n",
    "        targets = targets.to(device)\n",
    "            \n",
    "        # -- FORWARD AND BACK PROP\n",
    "        logits, probas = model(features)"
   ]
  },
  {
   "cell_type": "code",
   "execution_count": 34,
   "metadata": {},
   "outputs": [
    {
     "name": "stdout",
     "output_type": "stream",
     "text": [
      "Epoch: 001/001 | Batch 000/120 | Cost: 2.3026\n",
      "Epoch: 001/001 | Batch 050/120 | Cost: 0.7797\n",
      "Epoch: 001/001 | Batch 100/120 | Cost: 0.6211\n"
     ]
    }
   ],
   "source": [
    "start_time = time.time()\n",
    "epoch_costs = []\n",
    "\n",
    "for epoch in range(num_epochs):\n",
    "    avg_cost = 0.\n",
    "    \n",
    "    for batch_idx, (features, targets) in enumerate(train_loader):\n",
    "        \n",
    "        # -- Converts feature matrix to vector\n",
    "        features = features.view(-1, 28 * 28).to(device)\n",
    "        targets = targets.to(device)\n",
    "            \n",
    "        # -- FORWARD AND BACK PROP\n",
    "        # -- initially will be 0 as weights and bias are 0\n",
    "        logits, probas = model(features)\n",
    "        \n",
    "        # note that the PyTorch implementation of\n",
    "        # CrossEntropyLoss works with logits,\n",
    "        # not probabilities\n",
    "        cost = F.cross_entropy(logits, targets)\n",
    "        # -- For every batch in training we set the grandiets to\n",
    "        # -- zero before backpropagation. This avoids the gradient\n",
    "        # -- to be a combination of the previous.\n",
    "        optimizer.zero_grad()\n",
    "        cost.backward()\n",
    "        avg_cost += cost\n",
    "        \n",
    "        ### UPDATE MODEL PARAMETERS\n",
    "        optimizer.step()\n",
    "        \n",
    "        ### LOGGING\n",
    "        if not batch_idx % 50:\n",
    "            print ('Epoch: %03d/%03d | Batch %03d/%03d | Cost: %.4f' \n",
    "                   %(epoch+1, num_epochs, batch_idx, \n",
    "                     len(train_dataset)//batch_size, cost))\n",
    "            \n",
    "    # with torch.set_grad_enabled(False):\n",
    "    #     avg_cost = avg_cost/len(train_dataset)\n",
    "    #     epoch_costs.append(avg_cost)\n",
    "    #     print('Epoch: %03d/%03d training accuracy: %.2f%%' % (\n",
    "    #           epoch+1, num_epochs, \n",
    "    #           compute_accuracy(model, train_loader)))\n",
    "    #     print('Time elapsed: %.2f min' % ((time.time() - start_time)/60))"
   ]
  }
 ],
 "metadata": {
  "kernelspec": {
   "display_name": "NN_course",
   "language": "python",
   "name": "nn_course"
  },
  "language_info": {
   "codemirror_mode": {
    "name": "ipython",
    "version": 3
   },
   "file_extension": ".py",
   "mimetype": "text/x-python",
   "name": "python",
   "nbconvert_exporter": "python",
   "pygments_lexer": "ipython3",
   "version": "3.9.16"
  },
  "orig_nbformat": 4
 },
 "nbformat": 4,
 "nbformat_minor": 2
}

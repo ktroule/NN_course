{
 "cells": [
  {
   "attachments": {},
   "cell_type": "markdown",
   "metadata": {},
   "source": [
    "# Logistic regression from scratch\n",
    "Implementation of clasic logistic regression for binary class clasification"
   ]
  },
  {
   "cell_type": "code",
   "execution_count": 62,
   "metadata": {},
   "outputs": [],
   "source": [
    "import torch.nn.functional as F\n",
    "import matplotlib.pyplot as plt\n",
    "import pandas as pd\n",
    "import numpy as np\n",
    "import torch\n",
    "\n",
    "%matplotlib inline"
   ]
  },
  {
   "cell_type": "markdown",
   "metadata": {},
   "source": [
    "### Prepare dummy datset"
   ]
  },
  {
   "cell_type": "code",
   "execution_count": 63,
   "metadata": {},
   "outputs": [],
   "source": [
    "data = np.genfromtxt('/nfs/team292/kt22/misc/nn_course/data/toydata.txt',\n",
    "                     delimiter = '\\t')\n",
    "\n",
    "x = data[:, :2].astype(np.float32)\n",
    "y = data[:, 2].astype(np.int64)\n",
    "\n",
    "np.random.seed(123)\n",
    "idx = np.arange(y.shape[0])\n",
    "np.random.shuffle(idx)\n",
    "X_test, y_test = x[idx[:25]], y[idx[:25]]\n",
    "X_train, y_train = x[idx[25:]], y[idx[25:]]"
   ]
  },
  {
   "cell_type": "markdown",
   "metadata": {},
   "source": [
    "### Normalize data"
   ]
  },
  {
   "cell_type": "code",
   "execution_count": 64,
   "metadata": {},
   "outputs": [],
   "source": [
    "mu, std = np.mean(X_train, axis=0), np.std(X_train, axis=0)\n",
    "X_train, X_test = (X_train - mu) / std, (X_test - mu) / std"
   ]
  },
  {
   "cell_type": "markdown",
   "metadata": {},
   "source": [
    "### Plot data"
   ]
  },
  {
   "cell_type": "code",
   "execution_count": 65,
   "metadata": {},
   "outputs": [
    {
     "data": {
      "image/png": "[encoded data removed]",
      "text/plain": [
       "<Figure size 700x250 with 2 Axes>"
      ]
     },
     "metadata": {},
     "output_type": "display_data"
    }
   ],
   "source": [
    "fig, ax = plt.subplots(1, 2, figsize=(7, 2.5))\n",
    "ax[0].scatter(X_train[y_train == 1, 0], X_train[y_train == 1, 1])\n",
    "ax[0].scatter(X_train[y_train == 0, 0], X_train[y_train == 0, 1])\n",
    "ax[1].scatter(X_test[y_test == 1, 0], X_test[y_test == 1, 1])\n",
    "ax[1].scatter(X_test[y_test == 0, 0], X_test[y_test == 0, 1])\n",
    "plt.xlim([x[:, 0].min()-0.5, x[:, 0].max()+0.5])\n",
    "plt.ylim([x[:, 1].min()-0.5, x[:, 1].max()+0.5])\n",
    "plt.show()"
   ]
  },
  {
   "cell_type": "markdown",
   "metadata": {},
   "source": [
    "### Low-level implementation with manual gradients"
   ]
  },
  {
   "cell_type": "markdown",
   "metadata": {},
   "source": [
    "### Load data"
   ]
  },
  {
   "cell_type": "code",
   "execution_count": 66,
   "metadata": {},
   "outputs": [
    {
     "data": {
      "text/html": [
       "<div>\n",
       "<style scoped>\n",
       "    .dataframe tbody tr th:only-of-type {\n",
       "        vertical-align: middle;\n",
       "    }\n",
       "\n",
       "    .dataframe tbody tr th {\n",
       "        vertical-align: top;\n",
       "    }\n",
       "\n",
       "    .dataframe thead th {\n",
       "        text-align: right;\n",
       "    }\n",
       "</style>\n",
       "<table border=\"1\" class=\"dataframe\">\n",
       "  <thead>\n",
       "    <tr style=\"text-align: right;\">\n",
       "      <th></th>\n",
       "      <th>x1</th>\n",
       "      <th>x2</th>\n",
       "      <th>y</th>\n",
       "    </tr>\n",
       "  </thead>\n",
       "  <tbody>\n",
       "    <tr>\n",
       "      <th>0</th>\n",
       "      <td>-2.201441</td>\n",
       "      <td>-0.468864</td>\n",
       "      <td>-30.355617</td>\n",
       "    </tr>\n",
       "    <tr>\n",
       "      <th>1</th>\n",
       "      <td>-0.291041</td>\n",
       "      <td>0.777277</td>\n",
       "      <td>25.560334</td>\n",
       "    </tr>\n",
       "    <tr>\n",
       "      <th>2</th>\n",
       "      <td>-0.327755</td>\n",
       "      <td>0.040071</td>\n",
       "      <td>32.797526</td>\n",
       "    </tr>\n",
       "  </tbody>\n",
       "</table>\n",
       "</div>"
      ],
      "text/plain": [
       "         x1        x2          y\n",
       "0 -2.201441 -0.468864 -30.355617\n",
       "1 -0.291041  0.777277  25.560334\n",
       "2 -0.327755  0.040071  32.797526"
      ]
     },
     "execution_count": 66,
     "metadata": {},
     "output_type": "execute_result"
    }
   ],
   "source": [
    "data = pd.read_csv('/nfs/team292/kt22/misc/nn_course/data/linreg-data.csv',\n",
    "                   index_col = 0)\n",
    "data.head(3)"
   ]
  },
  {
   "cell_type": "markdown",
   "metadata": {},
   "source": [
    "### Split data"
   ]
  },
  {
   "cell_type": "code",
   "execution_count": 67,
   "metadata": {},
   "outputs": [],
   "source": [
    "X = torch.tensor(data[['x1', 'x2']].values, dtype = torch.float)\n",
    "y = torch.tensor(data['y'].values, dtype = torch.float)\n",
    "\n",
    "# -- Shuffle observations\n",
    "idx = torch.randperm(y.size(0), dtype = torch.long)\n",
    "X, y = X[idx], y[idx]\n",
    "\n",
    "# -- Split train/test\n",
    "cutoff = int(idx.size(0) * 0.7)\n",
    "\n",
    "X_train, X_test = X[idx[:cutoff]], X[idx[cutoff:]]\n",
    "y_train, y_test = y[idx[:cutoff]], y[idx[cutoff:]]"
   ]
  },
  {
   "cell_type": "markdown",
   "metadata": {},
   "source": [
    "### Normalize data"
   ]
  },
  {
   "cell_type": "code",
   "execution_count": 68,
   "metadata": {},
   "outputs": [],
   "source": [
    "mu, sigma = X_train.mean(axis = 0), X_train.std(axis = 0)\n",
    "X_train = (X_train - mu) / sigma\n",
    "X_test = (X_test - mu) / sigma"
   ]
  },
  {
   "cell_type": "code",
   "execution_count": 69,
   "metadata": {},
   "outputs": [],
   "source": [
    "device = torch.device(\"cuda:0\" if torch.cuda.is_available() else \"cpu\")\n",
    "\n",
    "w = torch.zeros(1,\n",
    "                10,\n",
    "                dtype = torch.float32,\n",
    "                device = device) + 1"
   ]
  },
  {
   "cell_type": "code",
   "execution_count": 70,
   "metadata": {},
   "outputs": [
    {
     "data": {
      "text/plain": [
       "tensor([[0.7311, 0.7311, 0.7311, 0.7311, 0.7311, 0.7311, 0.7311, 0.7311, 0.7311,\n",
       "         0.7311]])"
      ]
     },
     "execution_count": 70,
     "metadata": {},
     "output_type": "execute_result"
    }
   ],
   "source": [
    "def _sigmoid(z):\n",
    "    return 1. / (1. + torch.exp(-z))\n",
    "\n",
    "_sigmoid(w)"
   ]
  },
  {
   "cell_type": "code",
   "execution_count": 71,
   "metadata": {},
   "outputs": [],
   "source": [
    "device = torch.device(\"cuda:0\" if torch.cuda.is_available() else \"cpu\")\n",
    "\n",
    "\n",
    "class LogisticRegression1():\n",
    "    \n",
    "    def __init__(self, num_features):\n",
    "        self.num_features = num_features\n",
    "        self.weights = torch.zeros(1,\n",
    "                                   num_features, \n",
    "                                   dtype = torch.float32,\n",
    "                                   device = device)\n",
    "        self.bias = torch.zeros(1,\n",
    "                                dtype = torch.float32,\n",
    "                                device = device)\n",
    "\n",
    "    def forward(self, x):\n",
    "        linear = torch.add(torch.mm(x, self.weights.t()), self.bias).view(-1) # net input\n",
    "        probas = self._sigmoid(linear)\n",
    "        return probas\n",
    "        \n",
    "    def backward(self, x, y, probas):  \n",
    "        grad_loss_wrt_z = probas.view(-1) - y\n",
    "        grad_loss_wrt_w = torch.mm(x.t(), grad_loss_wrt_z.view(-1, 1)).t()\n",
    "        grad_loss_wrt_b = torch.sum(grad_loss_wrt_z)\n",
    "        return grad_loss_wrt_w, grad_loss_wrt_b\n",
    "            \n",
    "    def predict_labels(self, x):\n",
    "        probas = self.forward(x)\n",
    "        labels = torch.where(probas >= .5, 1, 0) # threshold function\n",
    "        return labels    \n",
    "            \n",
    "    def evaluate(self, x, y):\n",
    "        labels = self.predict_labels(x).float()\n",
    "        accuracy = torch.sum(labels.view(-1) == y.float()).item() / y.size(0)\n",
    "        return accuracy\n",
    "    \n",
    "    def _sigmoid(self, z):\n",
    "        return 1. / (1. + torch.exp(-z))\n",
    "    \n",
    "    def _logit_cost(self, y, proba):\n",
    "        tmp1 = torch.mm(-y.view(1, -1), torch.log(proba.view(-1, 1)))\n",
    "        tmp2 = torch.mm((1 - y).view(1, -1), torch.log(1 - proba.view(-1, 1)))\n",
    "        return tmp1 - tmp2\n",
    "    \n",
    "    def train(self, x, y, num_epochs, learning_rate = 0.01):\n",
    "        epoch_cost = []\n",
    "        for e in range(num_epochs):\n",
    "            \n",
    "            #### Compute outputs ####\n",
    "            probas = self.forward(x)\n",
    "            \n",
    "            #### Compute gradients ####\n",
    "            grad_w, grad_b = self.backward(x, y, probas)\n",
    "\n",
    "            #### Update weights ####\n",
    "            self.weights -= learning_rate * grad_w\n",
    "            self.bias -= learning_rate * grad_b\n",
    "            \n",
    "            #### Logging ####\n",
    "            cost = self._logit_cost(y, self.forward(x)) / x.size(0)\n",
    "            print('Epoch: %03d' % (e+1), end=\"\")\n",
    "            print(' | Train ACC: %.3f' % self.evaluate(x, y), end=\"\")\n",
    "            print(' | Cost: %.3f' % cost)\n",
    "            epoch_cost.append(cost)\n",
    "        return epoch_cost"
   ]
  },
  {
   "cell_type": "markdown",
   "metadata": {},
   "source": [
    "### PyTorch implementation"
   ]
  },
  {
   "cell_type": "code",
   "execution_count": 72,
   "metadata": {},
   "outputs": [],
   "source": [
    "class LogisticRegression2(torch.nn.Module):\n",
    "\n",
    "    def __init__(self, num_features):\n",
    "        super(LogisticRegression2, self).__init__()\n",
    "        self.linear = torch.nn.Linear(num_features, 1)\n",
    "        # initialize weights to zeros here,\n",
    "        # since we used zero weights in the\n",
    "        # manual approach\n",
    "        \n",
    "        self.linear.weight.detach().zero_()\n",
    "        self.linear.bias.detach().zero_()\n",
    "        # Note: the trailing underscore\n",
    "        # means \"in-place operation\" in the context\n",
    "        # of PyTorch\n",
    "        \n",
    "    def forward(self, x):\n",
    "        logits = self.linear(x)\n",
    "        probas = torch.sigmoid(logits)\n",
    "        return probas\n",
    "\n",
    "model2 = LogisticRegression2(num_features = 2).to(device)\n",
    "optimizer = torch.optim.SGD(model2.parameters(), lr = 0.1)"
   ]
  },
  {
   "cell_type": "markdown",
   "metadata": {},
   "source": [
    "### Define training and evaluation"
   ]
  },
  {
   "cell_type": "code",
   "execution_count": 95,
   "metadata": {},
   "outputs": [
    {
     "name": "stdout",
     "output_type": "stream",
     "text": [
      "Epoch: 001 | Train ACC: 0.000 | Cost: -3122.435\n",
      "Epoch: 002 | Train ACC: 0.000 | Cost: -3122.448\n",
      "Epoch: 003 | Train ACC: 0.000 | Cost: -3122.460\n",
      "Epoch: 004 | Train ACC: 0.000 | Cost: -3124.836\n",
      "Epoch: 005 | Train ACC: 0.000 | Cost: -3120.491\n",
      "Epoch: 006 | Train ACC: 0.000 | Cost: -3127.656\n",
      "Epoch: 007 | Train ACC: 0.000 | Cost: -3122.346\n",
      "Epoch: 008 | Train ACC: 0.000 | Cost: -3122.371\n",
      "Epoch: 009 | Train ACC: 0.000 | Cost: -3122.403\n",
      "Epoch: 010 | Train ACC: 0.000 | Cost: -3122.453\n",
      "Epoch: 011 | Train ACC: 0.000 | Cost: -3120.490\n",
      "Epoch: 012 | Train ACC: 0.000 | Cost: -3127.671\n",
      "Epoch: 013 | Train ACC: 0.000 | Cost: -3121.246\n",
      "Epoch: 014 | Train ACC: 0.000 | Cost: -3127.160\n",
      "Epoch: 015 | Train ACC: 0.000 | Cost: -3121.083\n",
      "Epoch: 016 | Train ACC: 0.000 | Cost: -3120.407\n",
      "Epoch: 017 | Train ACC: 0.000 | Cost: -3127.089\n",
      "Epoch: 018 | Train ACC: 0.000 | Cost: -3122.301\n",
      "Epoch: 019 | Train ACC: 0.000 | Cost: -3122.324\n",
      "Epoch: 020 | Train ACC: 0.000 | Cost: -3122.372\n",
      "Epoch: 021 | Train ACC: 0.000 | Cost: -3122.408\n",
      "Epoch: 022 | Train ACC: 0.000 | Cost: -3120.473\n",
      "Epoch: 023 | Train ACC: 0.000 | Cost: -3127.667\n",
      "Epoch: 024 | Train ACC: 0.000 | Cost: -3122.332\n",
      "Epoch: 025 | Train ACC: 0.000 | Cost: -3122.357\n",
      "Epoch: 026 | Train ACC: 0.000 | Cost: -3122.389\n",
      "Epoch: 027 | Train ACC: 0.000 | Cost: -3122.440\n",
      "Epoch: 028 | Train ACC: 0.000 | Cost: -3122.449\n",
      "Epoch: 029 | Train ACC: 0.000 | Cost: -3126.809\n",
      "Epoch: 030 | Train ACC: 0.000 | Cost: -3121.104\n",
      "\n",
      "Model parameters:\n",
      "  Weights: Parameter containing:\n",
      "tensor([[   9.7427, 2765.1829]], requires_grad=True)\n",
      "  Bias: Parameter containing:\n",
      "tensor([-48.5828], requires_grad=True)\n"
     ]
    },
    {
     "name": "stderr",
     "output_type": "stream",
     "text": [
      "/tmp/ipykernel_53870/2909985909.py:9: UserWarning: To copy construct from a tensor, it is recommended to use sourceTensor.clone().detach() or sourceTensor.clone().detach().requires_grad_(True), rather than torch.tensor(sourceTensor).\n",
      "  X_train_tensor = torch.tensor(X_train, dtype=torch.float32, device=device)\n",
      "/tmp/ipykernel_53870/2909985909.py:10: UserWarning: To copy construct from a tensor, it is recommended to use sourceTensor.clone().detach() or sourceTensor.clone().detach().requires_grad_(True), rather than torch.tensor(sourceTensor).\n",
      "  y_train_tensor = torch.tensor(y_train, dtype=torch.float32, device=device).view(-1, 1)\n"
     ]
    }
   ],
   "source": [
    "def comp_accuracy(label_var, pred_probas):\n",
    "    pred_labels = torch.where((pred_probas > 0.5), 1, 0).view(-1)\n",
    "    acc = torch.sum(pred_labels == label_var.view(-1)).float() / label_var.size(0)\n",
    "    return acc\n",
    "\n",
    "\n",
    "num_epochs = 30\n",
    "\n",
    "X_train_tensor = torch.tensor(X_train, dtype=torch.float32, device=device)\n",
    "y_train_tensor = torch.tensor(y_train, dtype=torch.float32, device=device).view(-1, 1)\n",
    "\n",
    "\n",
    "for epoch in range(num_epochs):\n",
    "    \n",
    "    #### Compute outputs ####\n",
    "    out = model2(X_train_tensor)\n",
    "    \n",
    "    #### Compute gradients ####\n",
    "    loss = F.binary_cross_entropy(out, y_train_tensor, reduction='sum')\n",
    "    optimizer.zero_grad()\n",
    "    loss.backward()\n",
    "    \n",
    "    #### Update weights ####  \n",
    "    optimizer.step()\n",
    "    \n",
    "    #### Logging ####      \n",
    "    pred_probas = model2(X_train_tensor)\n",
    "    acc = comp_accuracy(y_train_tensor, pred_probas)\n",
    "    print('Epoch: %03d' % (epoch + 1), end=\"\")\n",
    "    print(' | Train ACC: %.3f' % acc, end=\"\")\n",
    "    print(' | Cost: %.3f' % F.binary_cross_entropy(pred_probas, y_train_tensor))\n",
    "\n",
    "\n",
    "    \n",
    "print('\\nModel parameters:')\n",
    "print('  Weights: %s' % model2.linear.weight)\n",
    "print('  Bias: %s' % model2.linear.bias)"
   ]
  },
  {
   "cell_type": "code",
   "execution_count": 114,
   "metadata": {},
   "outputs": [],
   "source": [
    "def to_onehot(y, num_classes):\n",
    "    y_onehot = torch.zeros(y.size(0), num_classes)\n",
    "    y_onehot.scatter_(1, y.view(-1, 1).long(), 1).float()\n",
    "    return y_onehot\n",
    "\n",
    "y = torch.tensor([0, 1, 2, 2])\n",
    "\n",
    "y_enc = to_onehot(y, 3)\n",
    "\n",
    "\n",
    "\n",
    "Z = torch.tensor( [[-0.3,  -0.5, -0.5],\n",
    "                   [-0.4,  -0.1, -0.5],\n",
    "                   [-0.3,  -0.94, -0.5],\n",
    "                   [-0.99, -0.88, -0.5]])"
   ]
  },
  {
   "cell_type": "code",
   "execution_count": 177,
   "metadata": {},
   "outputs": [
    {
     "data": {
      "text/plain": [
       "tensor([[0.3792, 0.3072, 0.4263, 0.2668],\n",
       "        [0.3104, 0.4147, 0.2248, 0.2978],\n",
       "        [0.3104, 0.2780, 0.3490, 0.4354]])"
      ]
     },
     "execution_count": 177,
     "metadata": {},
     "output_type": "execute_result"
    }
   ],
   "source": [
    "a = torch.exp(Z.t())\n",
    "b = torch.sum(torch.exp(Z), dim = 1).t()\n",
    "a/b"
   ]
  },
  {
   "cell_type": "code",
   "execution_count": 178,
   "metadata": {},
   "outputs": [
    {
     "data": {
      "text/plain": [
       "tensor([[0.7408, 0.6703, 0.7408, 0.3716],\n",
       "        [0.6065, 0.9048, 0.3906, 0.4148],\n",
       "        [0.6065, 0.6065, 0.6065, 0.6065]])"
      ]
     },
     "execution_count": 178,
     "metadata": {},
     "output_type": "execute_result"
    }
   ],
   "source": [
    "a"
   ]
  },
  {
   "cell_type": "code",
   "execution_count": 182,
   "metadata": {},
   "outputs": [
    {
     "data": {
      "text/plain": [
       "tensor(0.3104)"
      ]
     },
     "execution_count": 182,
     "metadata": {},
     "output_type": "execute_result"
    }
   ],
   "source": [
    "0.6065/b[0]"
   ]
  },
  {
   "cell_type": "code",
   "execution_count": null,
   "metadata": {},
   "outputs": [],
   "source": [
    "0.3792, 0.3072, 0.4263, 0.2668"
   ]
  },
  {
   "cell_type": "code",
   "execution_count": 173,
   "metadata": {},
   "outputs": [
    {
     "data": {
      "text/plain": [
       "<function Tensor.dim>"
      ]
     },
     "execution_count": 173,
     "metadata": {},
     "output_type": "execute_result"
    }
   ],
   "source": [
    "b.t().dim"
   ]
  },
  {
   "cell_type": "code",
   "execution_count": 159,
   "metadata": {},
   "outputs": [
    {
     "data": {
      "text/plain": [
       "tensor(1.7380)"
      ]
     },
     "execution_count": 159,
     "metadata": {},
     "output_type": "execute_result"
    }
   ],
   "source": [
    "torch.sum(torch.exp(torch.tensor([-0.3000, -0.9400, -0.5000])))"
   ]
  },
  {
   "cell_type": "code",
   "execution_count": null,
   "metadata": {},
   "outputs": [
    {
     "ename": "",
     "evalue": "",
     "output_type": "error",
     "traceback": [
      "\u001b[1;31mFailed to connect to the remote Jupyter Server 'http://lepton.cellgeni.sanger.ac.uk:8008/'. Verify the server is running and reachable. (request to http://lepton.cellgeni.sanger.ac.uk:8008/api/kernels?1676937555871 failed, reason: getaddrinfo ENOTFOUND lepton.cellgeni.sanger.ac.uk)."
     ]
    }
   ],
   "source": [
    "28 * 28"
   ]
  },
  {
   "cell_type": "code",
   "execution_count": 138,
   "metadata": {},
   "outputs": [
    {
     "data": {
      "text/plain": [
       "tensor([[0.3792, 0.3072, 0.4263, 0.2668],\n",
       "        [0.3104, 0.4147, 0.2248, 0.2978],\n",
       "        [0.3104, 0.2780, 0.3490, 0.4354]])"
      ]
     },
     "execution_count": 138,
     "metadata": {},
     "output_type": "execute_result"
    }
   ],
   "source": [
    "a.t()/b"
   ]
  }
 ],
 "metadata": {
  "kernelspec": {
   "display_name": "Python 3",
   "language": "python",
   "name": "python3"
  },
  "language_info": {
   "name": "python",
   "version": "3.8.2"
  },
  "orig_nbformat": 4,
  "vscode": {
   "interpreter": {
    "hash": "31f2aee4e71d21fbe5cf8b01ff0e069b9275f58929596ceb00d14d90e3e16cd6"
   }
  }
 },
 "nbformat": 4,
 "nbformat_minor": 2
}
